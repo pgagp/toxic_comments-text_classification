{
 "cells": [
  {
   "cell_type": "markdown",
   "metadata": {},
   "source": [
    " "
   ]
  },
  {
   "cell_type": "markdown",
   "metadata": {
    "toc": true
   },
   "source": [
    "<h1>Содержание<span class=\"tocSkip\"></span></h1>\n",
    "<div class=\"toc\"><ul class=\"toc-item\"><li><span><a href=\"#Подготовка\" data-toc-modified-id=\"Подготовка-1\"><span class=\"toc-item-num\">1&nbsp;&nbsp;</span>Подготовка данных</a></span></li><li><span><a href=\"#Обучение\" data-toc-modified-id=\"Обучение-2\"><span class=\"toc-item-num\">2&nbsp;&nbsp;</span>Обучение</a></span><ul class=\"toc-item\"><li><span><a href=\"#RandomForestClassifier\" data-toc-modified-id=\"RandomForestClassifier-2.1\"><span class=\"toc-item-num\">2.1&nbsp;&nbsp;</span>RandomForestClassifier</a></span></li><li><span><a href=\"#SGDClassifier\" data-toc-modified-id=\"SGDClassifier-2.2\"><span class=\"toc-item-num\">2.2&nbsp;&nbsp;</span>SGDClassifier</a></span></li><li><span><a href=\"#MultinomialNB\" data-toc-modified-id=\"MultinomialNB-2.3\"><span class=\"toc-item-num\">2.3&nbsp;&nbsp;</span>MultinomialNB</a></span></li><li><span><a href=\"#LogisticRegression\" data-toc-modified-id=\"LogisticRegression-2.4\"><span class=\"toc-item-num\">2.4&nbsp;&nbsp;</span>LogisticRegression</a></span></li><li><span><a href=\"#Тестовая-выборка\" data-toc-modified-id=\"Тестовая-выборка-2.5\"><span class=\"toc-item-num\">2.5&nbsp;&nbsp;</span>Тестовая выборка</a></span></li></ul></li><li><span><a href=\"#Выводы\" data-toc-modified-id=\"Выводы-3\"><span class=\"toc-item-num\">3&nbsp;&nbsp;</span>Выводы</a>"
   ]
  },
  {
   "cell_type": "markdown",
   "metadata": {},
   "source": [
    "## Подготовка данных"
   ]
  },
  {
   "cell_type": "code",
   "execution_count": 1,
   "metadata": {},
   "outputs": [],
   "source": [
    "import pandas as pd\n",
    "import numpy as np \n",
    "import matplotlib.pyplot as plt \n",
    "import seaborn as sns \n",
    "import spacy\n",
    "import nltk\n",
    "import re \n",
    "\n",
    "from nltk.stem import WordNetLemmatizer \n",
    "from nltk.corpus import stopwords\n",
    "\n",
    "from sklearn.ensemble import RandomForestClassifier\n",
    "from sklearn.feature_extraction.text import CountVectorizer, TfidfVectorizer, TfidfTransformer\n",
    "from sklearn.linear_model import SGDClassifier, LogisticRegression\n",
    "from sklearn.metrics import f1_score\n",
    "from sklearn.model_selection import train_test_split, cross_val_score, GridSearchCV, KFold\n",
    "from sklearn.naive_bayes import MultinomialNB\n",
    "from sklearn.pipeline import FeatureUnion\n",
    "from sklearn.pipeline import Pipeline\n",
    "from sklearn.utils import shuffle"
   ]
  },
  {
   "cell_type": "code",
   "execution_count": 2,
   "metadata": {},
   "outputs": [
    {
     "data": {
      "text/html": [
       "<div>\n",
       "<style scoped>\n",
       "    .dataframe tbody tr th:only-of-type {\n",
       "        vertical-align: middle;\n",
       "    }\n",
       "\n",
       "    .dataframe tbody tr th {\n",
       "        vertical-align: top;\n",
       "    }\n",
       "\n",
       "    .dataframe thead th {\n",
       "        text-align: right;\n",
       "    }\n",
       "</style>\n",
       "<table border=\"1\" class=\"dataframe\">\n",
       "  <thead>\n",
       "    <tr style=\"text-align: right;\">\n",
       "      <th></th>\n",
       "      <th>text</th>\n",
       "      <th>toxic</th>\n",
       "    </tr>\n",
       "  </thead>\n",
       "  <tbody>\n",
       "    <tr>\n",
       "      <th>0</th>\n",
       "      <td>Explanation\\nWhy the edits made under my usern...</td>\n",
       "      <td>0</td>\n",
       "    </tr>\n",
       "    <tr>\n",
       "      <th>1</th>\n",
       "      <td>D'aww! He matches this background colour I'm s...</td>\n",
       "      <td>0</td>\n",
       "    </tr>\n",
       "    <tr>\n",
       "      <th>2</th>\n",
       "      <td>Hey man, I'm really not trying to edit war. It...</td>\n",
       "      <td>0</td>\n",
       "    </tr>\n",
       "    <tr>\n",
       "      <th>3</th>\n",
       "      <td>\"\\nMore\\nI can't make any real suggestions on ...</td>\n",
       "      <td>0</td>\n",
       "    </tr>\n",
       "    <tr>\n",
       "      <th>4</th>\n",
       "      <td>You, sir, are my hero. Any chance you remember...</td>\n",
       "      <td>0</td>\n",
       "    </tr>\n",
       "    <tr>\n",
       "      <th>...</th>\n",
       "      <td>...</td>\n",
       "      <td>...</td>\n",
       "    </tr>\n",
       "    <tr>\n",
       "      <th>159566</th>\n",
       "      <td>\":::::And for the second time of asking, when ...</td>\n",
       "      <td>0</td>\n",
       "    </tr>\n",
       "    <tr>\n",
       "      <th>159567</th>\n",
       "      <td>You should be ashamed of yourself \\n\\nThat is ...</td>\n",
       "      <td>0</td>\n",
       "    </tr>\n",
       "    <tr>\n",
       "      <th>159568</th>\n",
       "      <td>Spitzer \\n\\nUmm, theres no actual article for ...</td>\n",
       "      <td>0</td>\n",
       "    </tr>\n",
       "    <tr>\n",
       "      <th>159569</th>\n",
       "      <td>And it looks like it was actually you who put ...</td>\n",
       "      <td>0</td>\n",
       "    </tr>\n",
       "    <tr>\n",
       "      <th>159570</th>\n",
       "      <td>\"\\nAnd ... I really don't think you understand...</td>\n",
       "      <td>0</td>\n",
       "    </tr>\n",
       "  </tbody>\n",
       "</table>\n",
       "<p>159571 rows × 2 columns</p>\n",
       "</div>"
      ],
      "text/plain": [
       "                                                     text  toxic\n",
       "0       Explanation\\nWhy the edits made under my usern...      0\n",
       "1       D'aww! He matches this background colour I'm s...      0\n",
       "2       Hey man, I'm really not trying to edit war. It...      0\n",
       "3       \"\\nMore\\nI can't make any real suggestions on ...      0\n",
       "4       You, sir, are my hero. Any chance you remember...      0\n",
       "...                                                   ...    ...\n",
       "159566  \":::::And for the second time of asking, when ...      0\n",
       "159567  You should be ashamed of yourself \\n\\nThat is ...      0\n",
       "159568  Spitzer \\n\\nUmm, theres no actual article for ...      0\n",
       "159569  And it looks like it was actually you who put ...      0\n",
       "159570  \"\\nAnd ... I really don't think you understand...      0\n",
       "\n",
       "[159571 rows x 2 columns]"
      ]
     },
     "execution_count": 2,
     "metadata": {},
     "output_type": "execute_result"
    }
   ],
   "source": [
    "df = pd.read_csv('/datasets/toxic_comments.csv')\n",
    "df"
   ]
  },
  {
   "cell_type": "code",
   "execution_count": 3,
   "metadata": {},
   "outputs": [
    {
     "name": "stdout",
     "output_type": "stream",
     "text": [
      "<class 'pandas.core.frame.DataFrame'>\n",
      "RangeIndex: 159571 entries, 0 to 159570\n",
      "Data columns (total 2 columns):\n",
      " #   Column  Non-Null Count   Dtype \n",
      "---  ------  --------------   ----- \n",
      " 0   text    159571 non-null  object\n",
      " 1   toxic   159571 non-null  int64 \n",
      "dtypes: int64(1), object(1)\n",
      "memory usage: 2.4+ MB\n"
     ]
    }
   ],
   "source": [
    "df.info()"
   ]
  },
  {
   "cell_type": "code",
   "execution_count": 4,
   "metadata": {},
   "outputs": [
    {
     "data": {
      "text/plain": [
       "0"
      ]
     },
     "execution_count": 4,
     "metadata": {},
     "output_type": "execute_result"
    }
   ],
   "source": [
    "df.duplicated().sum()"
   ]
  },
  {
   "cell_type": "markdown",
   "metadata": {},
   "source": [
    "Объявляю функцию для очистки и лемматизации текстов 'lemm'"
   ]
  },
  {
   "cell_type": "code",
   "execution_count": 5,
   "metadata": {},
   "outputs": [],
   "source": [
    "nlp = spacy.load('en_core_web_sm')"
   ]
  },
  {
   "cell_type": "code",
   "execution_count": 6,
   "metadata": {},
   "outputs": [],
   "source": [
    "def lemm(text):\n",
    "    text = text.lower()\n",
    "    lemm_text = nlp(text)\n",
    "    lt = ' '.join([token.lemma_ for token in lemm_text])\n",
    "    clean_text = re.sub(r'[^a-zA-Z]', ' ', lt)\n",
    "    return clean_text"
   ]
  },
  {
   "cell_type": "code",
   "execution_count": 180,
   "metadata": {},
   "outputs": [
    {
     "name": "stdout",
     "output_type": "stream",
     "text": [
      "CPU times: user 40min 13s, sys: 1.53 s, total: 40min 15s\n",
      "Wall time: 40min 19s\n"
     ]
    }
   ],
   "source": [
    "%%time\n",
    "\n",
    "df['text_lem'] = df['text'].apply(lemm)"
   ]
  },
  {
   "cell_type": "code",
   "execution_count": 198,
   "metadata": {},
   "outputs": [],
   "source": [
    "#Для удобства сохранила и импортировала в csv"
   ]
  },
  {
   "cell_type": "code",
   "execution_count": 7,
   "metadata": {},
   "outputs": [],
   "source": [
    "#df.to_csv('df_lemm')"
   ]
  },
  {
   "cell_type": "code",
   "execution_count": 7,
   "metadata": {},
   "outputs": [],
   "source": [
    "dfl = pd.read_csv('df_lemm')"
   ]
  },
  {
   "cell_type": "code",
   "execution_count": 8,
   "metadata": {},
   "outputs": [
    {
     "data": {
      "text/html": [
       "<div>\n",
       "<style scoped>\n",
       "    .dataframe tbody tr th:only-of-type {\n",
       "        vertical-align: middle;\n",
       "    }\n",
       "\n",
       "    .dataframe tbody tr th {\n",
       "        vertical-align: top;\n",
       "    }\n",
       "\n",
       "    .dataframe thead th {\n",
       "        text-align: right;\n",
       "    }\n",
       "</style>\n",
       "<table border=\"1\" class=\"dataframe\">\n",
       "  <thead>\n",
       "    <tr style=\"text-align: right;\">\n",
       "      <th></th>\n",
       "      <th>text</th>\n",
       "      <th>toxic</th>\n",
       "      <th>text_lem</th>\n",
       "    </tr>\n",
       "  </thead>\n",
       "  <tbody>\n",
       "    <tr>\n",
       "      <th>0</th>\n",
       "      <td>Explanation\\nWhy the edits made under my usern...</td>\n",
       "      <td>0</td>\n",
       "      <td>explanation   why the edit make under my usern...</td>\n",
       "    </tr>\n",
       "    <tr>\n",
       "      <th>1</th>\n",
       "      <td>D'aww! He matches this background colour I'm s...</td>\n",
       "      <td>0</td>\n",
       "      <td>d aww   he match this background colour I be s...</td>\n",
       "    </tr>\n",
       "    <tr>\n",
       "      <th>2</th>\n",
       "      <td>Hey man, I'm really not trying to edit war. It...</td>\n",
       "      <td>0</td>\n",
       "      <td>hey man   I be really not try to edit war   it...</td>\n",
       "    </tr>\n",
       "    <tr>\n",
       "      <th>3</th>\n",
       "      <td>\"\\nMore\\nI can't make any real suggestions on ...</td>\n",
       "      <td>0</td>\n",
       "      <td>more   I can not make any real suggestion ...</td>\n",
       "    </tr>\n",
       "    <tr>\n",
       "      <th>4</th>\n",
       "      <td>You, sir, are my hero. Any chance you remember...</td>\n",
       "      <td>0</td>\n",
       "      <td>you   sir   be my hero   any chance you rememb...</td>\n",
       "    </tr>\n",
       "    <tr>\n",
       "      <th>...</th>\n",
       "      <td>...</td>\n",
       "      <td>...</td>\n",
       "      <td>...</td>\n",
       "    </tr>\n",
       "    <tr>\n",
       "      <th>159566</th>\n",
       "      <td>\":::::And for the second time of asking, when ...</td>\n",
       "      <td>0</td>\n",
       "      <td>and for the second time of asking ...</td>\n",
       "    </tr>\n",
       "    <tr>\n",
       "      <th>159567</th>\n",
       "      <td>You should be ashamed of yourself \\n\\nThat is ...</td>\n",
       "      <td>0</td>\n",
       "      <td>you should be ashamed of yourself    that be a...</td>\n",
       "    </tr>\n",
       "    <tr>\n",
       "      <th>159568</th>\n",
       "      <td>Spitzer \\n\\nUmm, theres no actual article for ...</td>\n",
       "      <td>0</td>\n",
       "      <td>spitzer    umm   there s no actual article for...</td>\n",
       "    </tr>\n",
       "    <tr>\n",
       "      <th>159569</th>\n",
       "      <td>And it looks like it was actually you who put ...</td>\n",
       "      <td>0</td>\n",
       "      <td>and it look like it be actually you who put on...</td>\n",
       "    </tr>\n",
       "    <tr>\n",
       "      <th>159570</th>\n",
       "      <td>\"\\nAnd ... I really don't think you understand...</td>\n",
       "      <td>0</td>\n",
       "      <td>and     I really do not think you understa...</td>\n",
       "    </tr>\n",
       "  </tbody>\n",
       "</table>\n",
       "<p>159571 rows × 3 columns</p>\n",
       "</div>"
      ],
      "text/plain": [
       "                                                     text  toxic  \\\n",
       "0       Explanation\\nWhy the edits made under my usern...      0   \n",
       "1       D'aww! He matches this background colour I'm s...      0   \n",
       "2       Hey man, I'm really not trying to edit war. It...      0   \n",
       "3       \"\\nMore\\nI can't make any real suggestions on ...      0   \n",
       "4       You, sir, are my hero. Any chance you remember...      0   \n",
       "...                                                   ...    ...   \n",
       "159566  \":::::And for the second time of asking, when ...      0   \n",
       "159567  You should be ashamed of yourself \\n\\nThat is ...      0   \n",
       "159568  Spitzer \\n\\nUmm, theres no actual article for ...      0   \n",
       "159569  And it looks like it was actually you who put ...      0   \n",
       "159570  \"\\nAnd ... I really don't think you understand...      0   \n",
       "\n",
       "                                                 text_lem  \n",
       "0       explanation   why the edit make under my usern...  \n",
       "1       d aww   he match this background colour I be s...  \n",
       "2       hey man   I be really not try to edit war   it...  \n",
       "3           more   I can not make any real suggestion ...  \n",
       "4       you   sir   be my hero   any chance you rememb...  \n",
       "...                                                   ...  \n",
       "159566              and for the second time of asking ...  \n",
       "159567  you should be ashamed of yourself    that be a...  \n",
       "159568  spitzer    umm   there s no actual article for...  \n",
       "159569  and it look like it be actually you who put on...  \n",
       "159570      and     I really do not think you understa...  \n",
       "\n",
       "[159571 rows x 3 columns]"
      ]
     },
     "execution_count": 8,
     "metadata": {},
     "output_type": "execute_result"
    }
   ],
   "source": [
    "dfl = dfl.drop(columns='Unnamed: 0')\n",
    "dfl"
   ]
  },
  {
   "cell_type": "code",
   "execution_count": 9,
   "metadata": {},
   "outputs": [
    {
     "name": "stdout",
     "output_type": "stream",
     "text": [
      "<class 'pandas.core.frame.DataFrame'>\n",
      "RangeIndex: 159571 entries, 0 to 159570\n",
      "Data columns (total 3 columns):\n",
      " #   Column    Non-Null Count   Dtype \n",
      "---  ------    --------------   ----- \n",
      " 0   text      159571 non-null  object\n",
      " 1   toxic     159571 non-null  int64 \n",
      " 2   text_lem  159571 non-null  object\n",
      "dtypes: int64(1), object(2)\n",
      "memory usage: 3.7+ MB\n"
     ]
    }
   ],
   "source": [
    "dfl.info()"
   ]
  },
  {
   "cell_type": "code",
   "execution_count": 10,
   "metadata": {
    "scrolled": false
   },
   "outputs": [
    {
     "name": "stdout",
     "output_type": "stream",
     "text": [
      "0    143346\n",
      "1     16225\n",
      "Name: toxic, dtype: int64\n"
     ]
    },
    {
     "data": {
      "text/plain": [
       "<AxesSubplot:xlabel='toxic', ylabel='count'>"
      ]
     },
     "execution_count": 10,
     "metadata": {},
     "output_type": "execute_result"
    },
    {
     "data": {
      "image/png": "[encoded data removed]",
      "text/plain": [
       "<Figure size 432x288 with 1 Axes>"
      ]
     },
     "metadata": {
      "needs_background": "light"
     },
     "output_type": "display_data"
    }
   ],
   "source": [
    "print(dfl['toxic'].value_counts())\n",
    "sns.countplot(x='toxic', data=dfl)"
   ]
  },
  {
   "cell_type": "markdown",
   "metadata": {},
   "source": [
    "Довольно сильный дисбаланс классов"
   ]
  },
  {
   "cell_type": "markdown",
   "metadata": {},
   "source": [
    "### Подготовка данных к обучению"
   ]
  },
  {
   "cell_type": "code",
   "execution_count": 11,
   "metadata": {},
   "outputs": [],
   "source": [
    "features = dfl['text_lem']\n",
    "target = dfl['toxic']"
   ]
  },
  {
   "cell_type": "code",
   "execution_count": 12,
   "metadata": {},
   "outputs": [],
   "source": [
    "features_train, features_test, target_train, target_test = train_test_split(\n",
    "    features, target, test_size=0.15, random_state=42, stratify = target)"
   ]
  },
  {
   "cell_type": "markdown",
   "metadata": {},
   "source": [
    "## Обучение"
   ]
  },
  {
   "cell_type": "markdown",
   "metadata": {},
   "source": [
    "Так как в данных дисбаланс классов при обучении модели буду передавать параметр class_weight='balanced'"
   ]
  },
  {
   "cell_type": "markdown",
   "metadata": {},
   "source": [
    "### RandomForestClassifier"
   ]
  },
  {
   "cell_type": "code",
   "execution_count": 13,
   "metadata": {},
   "outputs": [],
   "source": [
    "rf = Pipeline([('vect', CountVectorizer(stop_words = 'english')),\n",
    "                    ('tfidf', TfidfTransformer()),\n",
    "                    ('rf', RandomForestClassifier(class_weight='balanced')),\n",
    "                    ])\n",
    "\n",
    "rf_param = { 'vect__max_df': (0.5, 0.75, 1.0),\n",
    "            'rf__n_estimators': range(10, 40, 10),\n",
    "            'rf__max_depth': range(4, 8, 2),\n",
    "            }\n",
    "\n",
    "cv = KFold(n_splits=5, shuffle=True, random_state=42)"
   ]
  },
  {
   "cell_type": "code",
   "execution_count": 14,
   "metadata": {},
   "outputs": [
    {
     "name": "stdout",
     "output_type": "stream",
     "text": [
      "F1 = 0.3249125530164292\n",
      "при параметрах: {'rf__max_depth': 6, 'rf__n_estimators': 30, 'vect__max_df': 0.75}\n",
      "CPU times: user 9min 32s, sys: 4.15 s, total: 9min 36s\n",
      "Wall time: 9min 36s\n"
     ]
    }
   ],
   "source": [
    "%%time\n",
    "\n",
    "rf_grid = GridSearchCV(rf, rf_param, scoring='f1', cv=cv)\n",
    "rf_grid.fit(features_train, target_train)\n",
    "\n",
    "print('F1 =', rf_grid.best_score_)\n",
    "print('при параметрах:', rf_grid.best_params_)"
   ]
  },
  {
   "cell_type": "markdown",
   "metadata": {},
   "source": [
    "### SGDClassifier"
   ]
  },
  {
   "cell_type": "code",
   "execution_count": 30,
   "metadata": {},
   "outputs": [],
   "source": [
    "sgd = Pipeline([('vect', CountVectorizer(stop_words = 'english')),\n",
    "                    ('tfidf', TfidfTransformer()),\n",
    "                    ('sgd', SGDClassifier(class_weight='balanced'))\n",
    "                    ])\n",
    "\n",
    "sgd_param = { 'vect__max_df': (0.5, 0.75, 1.0),\n",
    "            'sgd__max_iter': (1000,),\n",
    "            'sgd__alpha': (0.00001, 0.000001)\n",
    "            }"
   ]
  },
  {
   "cell_type": "code",
   "execution_count": 31,
   "metadata": {},
   "outputs": [
    {
     "name": "stdout",
     "output_type": "stream",
     "text": [
      "F1 = 0.7453610091296216\n",
      "при параметрах: {'sgd__alpha': 1e-05, 'sgd__max_iter': 1000, 'vect__max_df': 0.5}\n",
      "CPU times: user 3min 19s, sys: 4.17 s, total: 3min 24s\n",
      "Wall time: 3min 24s\n"
     ]
    }
   ],
   "source": [
    "%%time\n",
    "\n",
    "sgd_grid = GridSearchCV(sgd, sgd_param, scoring='f1', cv=cv)\n",
    "sgd_grid.fit(features_train, target_train)\n",
    "\n",
    "print('F1 =', sgd_grid.best_score_)\n",
    "print('при параметрах:', sgd_grid.best_params_)"
   ]
  },
  {
   "cell_type": "markdown",
   "metadata": {},
   "source": [
    "### MultinomialNB"
   ]
  },
  {
   "cell_type": "code",
   "execution_count": 17,
   "metadata": {},
   "outputs": [],
   "source": [
    "mnb = Pipeline([('vect', CountVectorizer(stop_words = 'english')),\n",
    "                    ('tfidf', TfidfTransformer()),\n",
    "                    ('mnb', MultinomialNB())\n",
    "                    ])\n",
    "mnb_param = { 'vect__max_df': (0.5, 0.75, 1.0),\n",
    "            'mnb__alpha': (1, 0.1, 0.01, 0.001)\n",
    "            }"
   ]
  },
  {
   "cell_type": "code",
   "execution_count": 18,
   "metadata": {},
   "outputs": [
    {
     "name": "stdout",
     "output_type": "stream",
     "text": [
      "F1 = 0.6717607933737408\n",
      "при параметрах: {'mnb__alpha': 0.01, 'vect__max_df': 0.5}\n",
      "CPU times: user 5min 57s, sys: 2.08 s, total: 5min 59s\n",
      "Wall time: 5min 59s\n"
     ]
    }
   ],
   "source": [
    "%%time\n",
    "\n",
    "mnb_grid = GridSearchCV(mnb, mnb_param, scoring='f1', cv=cv)\n",
    "mnb_grid.fit(features_train, target_train)\n",
    "\n",
    "print('F1 =', mnb_grid.best_score_)\n",
    "print('при параметрах:', mnb_grid.best_params_)"
   ]
  },
  {
   "cell_type": "markdown",
   "metadata": {},
   "source": [
    "### LogisticRegression"
   ]
  },
  {
   "cell_type": "code",
   "execution_count": 19,
   "metadata": {},
   "outputs": [
    {
     "name": "stdout",
     "output_type": "stream",
     "text": [
      "F1 = 0.7641924338423822\n",
      "при параметрах: {'lr__C': 10, 'vect__max_df': 0.5}\n",
      "CPU times: user 8min 47s, sys: 6min 49s, total: 15min 37s\n",
      "Wall time: 15min 38s\n"
     ]
    }
   ],
   "source": [
    "%%time\n",
    "\n",
    "lr = Pipeline([('vect', CountVectorizer(stop_words = 'english')),\n",
    "                    ('tfidf', TfidfTransformer()),\n",
    "                    ('lr', LogisticRegression(class_weight='balanced', random_state=42, solver='liblinear', max_iter=100))\n",
    "              ])\n",
    "\n",
    "lr_param = { 'vect__max_df': (0.5, 0.75, 1.0),\n",
    "            'lr__C': (0.1, 1, 10)}\n",
    "\n",
    "lr_grid = GridSearchCV(lr, lr_param, scoring='f1', cv=cv)\n",
    "lr_grid.fit(features_train, target_train)\n",
    "\n",
    "print('F1 =', lr_grid.best_score_)\n",
    "print('при параметрах:', lr_grid.best_params_)"
   ]
  },
  {
   "cell_type": "markdown",
   "metadata": {},
   "source": [
    "таким образом, модель показавшая лучшую оценку f1 на тренировочной выборке - LogisticRegression"
   ]
  },
  {
   "cell_type": "markdown",
   "metadata": {},
   "source": [
    "### Тестовая выборка"
   ]
  },
  {
   "cell_type": "markdown",
   "metadata": {},
   "source": [
    "на тестовой выборке проверю SGDClassifier и LogisticRegression"
   ]
  },
  {
   "cell_type": "code",
   "execution_count": 28,
   "metadata": {},
   "outputs": [
    {
     "name": "stdout",
     "output_type": "stream",
     "text": [
      "F1 = 0.7645665561345334\n",
      "CPU times: user 7.03 s, sys: 131 ms, total: 7.16 s\n",
      "Wall time: 7.16 s\n"
     ]
    }
   ],
   "source": [
    "%%time\n",
    "\n",
    "test_m = Pipeline([('vect', CountVectorizer(max_df=1.0, stop_words = 'english')),\n",
    "                    ('tfidf', TfidfTransformer()),\n",
    "                    ('sgd', SGDClassifier(alpha=1e-05, max_iter=1000))\n",
    "                    ])\n",
    "\n",
    "test_m.fit(features_train, target_train)\n",
    "predict = test_m.predict(features_test)\n",
    "print('F1 =', f1_score(target_test, predict))"
   ]
  },
  {
   "cell_type": "code",
   "execution_count": 29,
   "metadata": {
    "scrolled": true
   },
   "outputs": [
    {
     "name": "stdout",
     "output_type": "stream",
     "text": [
      "F1 = 0.7694046721929164\n",
      "CPU times: user 20.7 s, sys: 16 s, total: 36.7 s\n",
      "Wall time: 36.8 s\n"
     ]
    }
   ],
   "source": [
    "%%time\n",
    "\n",
    "test_lr = Pipeline([('vect', CountVectorizer(max_df=0.5)),\n",
    "                    ('tfidf', TfidfTransformer()),\n",
    "                    ('lr', LogisticRegression(C=10, fit_intercept=True, class_weight='balanced', random_state=42, solver='liblinear', max_iter=100))\n",
    "                    ])\n",
    "\n",
    "test_lr.fit(features_train, target_train)\n",
    "predict_lr = test_lr.predict(features_test)\n",
    "print('F1 =', f1_score(target_test, predict_lr))"
   ]
  },
  {
   "cell_type": "markdown",
   "metadata": {},
   "source": [
    "- F1 на обучающей выборке: 0.7641924338423822\n",
    "- F1 на тестовой выборке: 0.7694046721929164"
   ]
  },
  {
   "cell_type": "markdown",
   "metadata": {},
   "source": [
    "## Выводы"
   ]
  },
  {
   "cell_type": "markdown",
   "metadata": {},
   "source": [
    "Для поиска токсичных комментариев были построенны и рассмотрены 4 модели. Лучшая по метрике качества F1 оказалась модель линейной классификации SGDClassifier. На тестовой выборке показан F1 = 0.7694046721929164.\n",
    "\n",
    "Спасибо за внимание!🌻"
   ]
  }
 ],
 "metadata": {
  "ExecuteTimeLog": [
   {
    "duration": 408,
    "start_time": "2022-07-11T16:22:23.971Z"
   },
   {
    "duration": 2391,
    "start_time": "2022-07-11T16:22:51.441Z"
   },
   {
    "duration": 9,
    "start_time": "2022-07-11T16:23:23.225Z"
   },
   {
    "duration": 37,
    "start_time": "2022-07-11T16:23:30.637Z"
   },
   {
    "duration": 2063,
    "start_time": "2022-07-11T16:32:55.948Z"
   },
   {
    "duration": 295,
    "start_time": "2022-07-11T16:34:28.376Z"
   },
   {
    "duration": 29,
    "start_time": "2022-07-11T16:37:01.670Z"
   },
   {
    "duration": 2133,
    "start_time": "2022-07-11T16:37:43.193Z"
   },
   {
    "duration": 5,
    "start_time": "2022-07-11T16:38:07.144Z"
   },
   {
    "duration": 54504,
    "start_time": "2022-07-11T16:39:01.975Z"
   },
   {
    "duration": 855,
    "start_time": "2022-07-11T16:41:41.375Z"
   },
   {
    "duration": 802,
    "start_time": "2022-07-11T16:42:10.605Z"
   },
   {
    "duration": 57,
    "start_time": "2022-07-11T16:42:13.984Z"
   },
   {
    "duration": 176,
    "start_time": "2022-07-11T16:42:40.233Z"
   },
   {
    "duration": 302,
    "start_time": "2022-07-11T16:43:21.689Z"
   },
   {
    "duration": 1100,
    "start_time": "2022-07-11T16:43:29.367Z"
   },
   {
    "duration": 173,
    "start_time": "2022-07-11T16:43:49.848Z"
   },
   {
    "duration": 302,
    "start_time": "2022-07-11T16:43:59.946Z"
   },
   {
    "duration": 145,
    "start_time": "2022-07-11T16:44:04.710Z"
   },
   {
    "duration": 55,
    "start_time": "2022-07-11T16:44:53.942Z"
   },
   {
    "duration": 113,
    "start_time": "2022-07-11T16:45:34.412Z"
   },
   {
    "duration": 4,
    "start_time": "2022-07-11T16:46:39.569Z"
   },
   {
    "duration": 94,
    "start_time": "2022-07-11T16:46:43.277Z"
   },
   {
    "duration": 8740,
    "start_time": "2022-07-11T16:51:50.822Z"
   },
   {
    "duration": 189,
    "start_time": "2022-07-11T16:56:52.140Z"
   },
   {
    "duration": 9290,
    "start_time": "2022-07-11T16:57:21.313Z"
   },
   {
    "duration": 6,
    "start_time": "2022-07-11T17:00:58.573Z"
   },
   {
    "duration": 6,
    "start_time": "2022-07-11T17:02:25.569Z"
   },
   {
    "duration": 940,
    "start_time": "2022-07-11T17:02:26.241Z"
   },
   {
    "duration": 35,
    "start_time": "2022-07-11T17:02:31.606Z"
   },
   {
    "duration": 290,
    "start_time": "2022-07-11T17:02:33.982Z"
   },
   {
    "duration": 2010,
    "start_time": "2022-07-11T17:02:47.171Z"
   },
   {
    "duration": 2882,
    "start_time": "2022-07-11T17:02:49.184Z"
   },
   {
    "duration": 37,
    "start_time": "2022-07-11T17:02:53.369Z"
   },
   {
    "duration": 266,
    "start_time": "2022-07-11T17:03:06.235Z"
   },
   {
    "duration": 2252,
    "start_time": "2022-07-11T17:03:10.977Z"
   },
   {
    "duration": 4,
    "start_time": "2022-07-11T17:03:16.011Z"
   },
   {
    "duration": 61984,
    "start_time": "2022-07-11T17:03:18.386Z"
   },
   {
    "duration": 782,
    "start_time": "2022-07-11T17:04:24.886Z"
   },
   {
    "duration": 61,
    "start_time": "2022-07-11T17:04:28.576Z"
   },
   {
    "duration": 203,
    "start_time": "2022-07-11T17:04:30.123Z"
   },
   {
    "duration": 3,
    "start_time": "2022-07-11T17:04:36.885Z"
   },
   {
    "duration": 116,
    "start_time": "2022-07-11T17:04:40.991Z"
   },
   {
    "duration": 9490,
    "start_time": "2022-07-11T17:04:43.207Z"
   },
   {
    "duration": 6129,
    "start_time": "2022-07-11T17:04:57.692Z"
   },
   {
    "duration": 73,
    "start_time": "2022-07-11T17:05:11.081Z"
   },
   {
    "duration": 2303,
    "start_time": "2022-07-25T15:11:28.391Z"
   },
   {
    "duration": 2893,
    "start_time": "2022-07-25T15:11:33.861Z"
   },
   {
    "duration": 35,
    "start_time": "2022-07-25T15:11:38.123Z"
   },
   {
    "duration": 207,
    "start_time": "2022-07-25T15:11:41.086Z"
   },
   {
    "duration": 3,
    "start_time": "2022-07-25T15:11:53.618Z"
   },
   {
    "duration": 4,
    "start_time": "2022-07-25T15:14:55.117Z"
   },
   {
    "duration": 122,
    "start_time": "2022-07-25T15:15:08.785Z"
   },
   {
    "duration": 1761,
    "start_time": "2022-07-29T12:43:05.179Z"
   },
   {
    "duration": 2508,
    "start_time": "2022-07-29T12:43:11.006Z"
   },
   {
    "duration": 25,
    "start_time": "2022-07-29T12:43:14.846Z"
   },
   {
    "duration": 233,
    "start_time": "2022-07-29T12:43:16.358Z"
   },
   {
    "duration": 5,
    "start_time": "2022-07-29T13:00:12.690Z"
   },
   {
    "duration": 3,
    "start_time": "2022-07-29T14:02:05.300Z"
   },
   {
    "duration": 800,
    "start_time": "2022-07-29T14:02:06.770Z"
   },
   {
    "duration": 24,
    "start_time": "2022-07-29T14:02:08.207Z"
   },
   {
    "duration": 243,
    "start_time": "2022-07-29T14:02:08.881Z"
   },
   {
    "duration": 2,
    "start_time": "2022-07-29T14:02:20.381Z"
   },
   {
    "duration": 3,
    "start_time": "2022-07-29T14:06:26.426Z"
   },
   {
    "duration": 4,
    "start_time": "2022-07-29T14:06:28.468Z"
   },
   {
    "duration": 6,
    "start_time": "2022-07-29T14:06:40.458Z"
   },
   {
    "duration": 4,
    "start_time": "2022-07-29T14:08:38.699Z"
   },
   {
    "duration": 17,
    "start_time": "2022-07-29T14:09:57.810Z"
   },
   {
    "duration": 146,
    "start_time": "2022-07-29T14:10:24.018Z"
   },
   {
    "duration": 4,
    "start_time": "2022-07-29T14:10:41.443Z"
   },
   {
    "duration": 16,
    "start_time": "2022-07-29T14:10:42.373Z"
   },
   {
    "duration": 4,
    "start_time": "2022-07-29T14:12:12.765Z"
   },
   {
    "duration": 795,
    "start_time": "2022-07-29T14:12:14.120Z"
   },
   {
    "duration": 25,
    "start_time": "2022-07-29T14:12:16.271Z"
   },
   {
    "duration": 236,
    "start_time": "2022-07-29T14:12:17.098Z"
   },
   {
    "duration": 4,
    "start_time": "2022-07-29T14:12:24.411Z"
   },
   {
    "duration": 1256,
    "start_time": "2022-07-29T14:12:52.465Z"
   },
   {
    "duration": 3,
    "start_time": "2022-07-29T14:14:19.531Z"
   },
   {
    "duration": 3,
    "start_time": "2022-07-29T14:14:22.365Z"
   },
   {
    "duration": 3,
    "start_time": "2022-07-29T14:14:25.944Z"
   },
   {
    "duration": 13,
    "start_time": "2022-07-29T14:14:40.279Z"
   },
   {
    "duration": 9,
    "start_time": "2022-07-29T14:15:55.854Z"
   },
   {
    "duration": 3,
    "start_time": "2022-07-29T14:16:29.862Z"
   },
   {
    "duration": 12,
    "start_time": "2022-07-29T14:16:32.100Z"
   },
   {
    "duration": 3,
    "start_time": "2022-07-29T14:19:03.990Z"
   },
   {
    "duration": 3,
    "start_time": "2022-07-29T14:19:08.451Z"
   },
   {
    "duration": 70,
    "start_time": "2022-07-29T14:19:12.008Z"
   },
   {
    "duration": 29,
    "start_time": "2022-07-29T14:20:01.904Z"
   },
   {
    "duration": 8,
    "start_time": "2022-07-29T14:37:55.734Z"
   },
   {
    "duration": 3,
    "start_time": "2022-07-29T14:38:39.042Z"
   },
   {
    "duration": 43114,
    "start_time": "2022-07-29T14:39:02.365Z"
   },
   {
    "duration": 15,
    "start_time": "2022-07-29T14:41:01.070Z"
   },
   {
    "duration": 9,
    "start_time": "2022-07-29T14:41:46.430Z"
   },
   {
    "duration": 2210,
    "start_time": "2022-07-29T14:42:22.575Z"
   },
   {
    "duration": 14,
    "start_time": "2022-07-29T14:42:29.572Z"
   },
   {
    "duration": 2184,
    "start_time": "2022-07-29T14:42:52.648Z"
   },
   {
    "duration": 15,
    "start_time": "2022-07-29T14:43:01.418Z"
   },
   {
    "duration": 4,
    "start_time": "2022-07-29T14:43:06.941Z"
   },
   {
    "duration": 795,
    "start_time": "2022-07-29T14:43:08.425Z"
   },
   {
    "duration": 25,
    "start_time": "2022-07-29T14:43:09.930Z"
   },
   {
    "duration": 231,
    "start_time": "2022-07-29T14:43:10.618Z"
   },
   {
    "duration": 2,
    "start_time": "2022-07-29T14:43:16.545Z"
   },
   {
    "duration": 9,
    "start_time": "2022-07-29T14:43:25.461Z"
   },
   {
    "duration": 2090,
    "start_time": "2022-07-29T14:43:42.670Z"
   },
   {
    "duration": 35400,
    "start_time": "2022-07-29T14:43:49.140Z"
   },
   {
    "duration": 34644,
    "start_time": "2022-07-29T14:44:29.641Z"
   },
   {
    "duration": 58786,
    "start_time": "2022-07-29T14:45:08.267Z"
   },
   {
    "duration": 106,
    "start_time": "2022-07-29T14:50:48.937Z"
   },
   {
    "duration": 17,
    "start_time": "2022-07-29T14:51:58.394Z"
   },
   {
    "duration": 111,
    "start_time": "2022-07-29T14:52:30.234Z"
   },
   {
    "duration": 4,
    "start_time": "2022-07-29T14:52:54.726Z"
   },
   {
    "duration": 837,
    "start_time": "2022-07-29T14:52:55.954Z"
   },
   {
    "duration": 28,
    "start_time": "2022-07-29T14:52:57.522Z"
   },
   {
    "duration": 243,
    "start_time": "2022-07-29T14:52:58.294Z"
   },
   {
    "duration": 2,
    "start_time": "2022-07-29T14:53:01.782Z"
   },
   {
    "duration": 53,
    "start_time": "2022-07-29T14:53:03.126Z"
   },
   {
    "duration": 656,
    "start_time": "2022-07-29T14:54:16.775Z"
   },
   {
    "duration": 3,
    "start_time": "2022-07-29T14:55:35.788Z"
   },
   {
    "duration": 258,
    "start_time": "2022-07-29T14:58:36.930Z"
   },
   {
    "duration": 17,
    "start_time": "2022-07-29T15:01:06.726Z"
   },
   {
    "duration": 16,
    "start_time": "2022-07-29T15:01:16.830Z"
   },
   {
    "duration": 3,
    "start_time": "2022-07-29T15:05:19.568Z"
   },
   {
    "duration": 72,
    "start_time": "2022-07-29T15:08:09.000Z"
   },
   {
    "duration": 15,
    "start_time": "2022-07-29T15:14:07.081Z"
   },
   {
    "duration": 3,
    "start_time": "2022-07-29T15:14:35.775Z"
   },
   {
    "duration": 31,
    "start_time": "2022-07-29T15:14:55.349Z"
   },
   {
    "duration": 3,
    "start_time": "2022-07-29T15:16:20.851Z"
   },
   {
    "duration": 25,
    "start_time": "2022-07-29T15:16:21.734Z"
   },
   {
    "duration": 13,
    "start_time": "2022-07-29T15:16:46.429Z"
   },
   {
    "duration": 47586,
    "start_time": "2022-07-29T15:18:58.161Z"
   },
   {
    "duration": 0,
    "start_time": "2022-07-29T15:19:45.748Z"
   },
   {
    "duration": 5,
    "start_time": "2022-07-29T15:19:49.964Z"
   },
   {
    "duration": 6,
    "start_time": "2022-07-29T15:19:57.949Z"
   },
   {
    "duration": 10,
    "start_time": "2022-07-29T15:20:35.292Z"
   },
   {
    "duration": 12,
    "start_time": "2022-07-29T15:20:36.696Z"
   },
   {
    "duration": 0,
    "start_time": "2022-07-29T15:22:19.594Z"
   },
   {
    "duration": 19333,
    "start_time": "2022-07-29T15:22:55.332Z"
   },
   {
    "duration": 17,
    "start_time": "2022-07-29T15:23:40.489Z"
   },
   {
    "duration": 18,
    "start_time": "2022-07-29T15:23:54.642Z"
   },
   {
    "duration": 18,
    "start_time": "2022-07-29T15:24:16.542Z"
   },
   {
    "duration": 13,
    "start_time": "2022-07-29T15:25:07.822Z"
   },
   {
    "duration": 3,
    "start_time": "2022-07-29T15:26:22.288Z"
   },
   {
    "duration": 16,
    "start_time": "2022-07-29T15:27:25.827Z"
   },
   {
    "duration": 93,
    "start_time": "2022-07-29T15:27:57.861Z"
   },
   {
    "duration": 4820,
    "start_time": "2022-07-29T15:28:12.021Z"
   },
   {
    "duration": 47679,
    "start_time": "2022-07-29T15:29:24.680Z"
   },
   {
    "duration": 34164,
    "start_time": "2022-07-29T15:30:23.984Z"
   },
   {
    "duration": 5071,
    "start_time": "2022-07-29T15:31:51.226Z"
   },
   {
    "duration": 93810,
    "start_time": "2022-07-29T15:32:12.645Z"
   },
   {
    "duration": 16,
    "start_time": "2022-07-29T15:34:18.880Z"
   },
   {
    "duration": 11,
    "start_time": "2022-07-29T15:34:29.639Z"
   },
   {
    "duration": 3,
    "start_time": "2022-07-29T15:34:37.188Z"
   },
   {
    "duration": 5017,
    "start_time": "2022-07-29T15:34:38.354Z"
   },
   {
    "duration": 11,
    "start_time": "2022-07-29T15:34:45.492Z"
   },
   {
    "duration": 251,
    "start_time": "2022-07-29T15:35:02.390Z"
   },
   {
    "duration": 5068,
    "start_time": "2022-07-29T15:36:19.247Z"
   },
   {
    "duration": 5002,
    "start_time": "2022-07-29T15:36:40.985Z"
   },
   {
    "duration": 7,
    "start_time": "2022-07-29T16:28:00.137Z"
   },
   {
    "duration": 799,
    "start_time": "2022-07-29T16:28:04.389Z"
   },
   {
    "duration": 27,
    "start_time": "2022-07-29T16:28:06.193Z"
   },
   {
    "duration": 240,
    "start_time": "2022-07-29T16:28:07.570Z"
   },
   {
    "duration": 3,
    "start_time": "2022-07-29T16:28:14.823Z"
   },
   {
    "duration": 496,
    "start_time": "2022-07-29T16:28:16.320Z"
   },
   {
    "duration": 10,
    "start_time": "2022-07-29T16:28:19.060Z"
   },
   {
    "duration": 4,
    "start_time": "2022-07-29T16:31:41.747Z"
   },
   {
    "duration": 27,
    "start_time": "2022-07-29T16:32:13.653Z"
   },
   {
    "duration": 85,
    "start_time": "2022-07-29T16:32:27.217Z"
   },
   {
    "duration": 10,
    "start_time": "2022-07-29T16:33:45.163Z"
   },
   {
    "duration": 61,
    "start_time": "2022-07-29T16:33:48.697Z"
   },
   {
    "duration": 6,
    "start_time": "2022-07-29T16:34:53.282Z"
   },
   {
    "duration": 5,
    "start_time": "2022-07-29T16:35:04.999Z"
   },
   {
    "duration": 9,
    "start_time": "2022-07-29T16:35:12.916Z"
   },
   {
    "duration": 413,
    "start_time": "2022-07-29T16:35:55.213Z"
   },
   {
    "duration": 3,
    "start_time": "2022-07-29T16:39:33.998Z"
   },
   {
    "duration": 6,
    "start_time": "2022-07-29T16:39:35.113Z"
   },
   {
    "duration": 2398,
    "start_time": "2022-07-29T16:39:36.593Z"
   },
   {
    "duration": 7,
    "start_time": "2022-07-29T16:40:06.381Z"
   },
   {
    "duration": 2115,
    "start_time": "2022-07-29T16:40:11.195Z"
   },
   {
    "duration": 4,
    "start_time": "2022-07-29T16:41:16.175Z"
   },
   {
    "duration": 904,
    "start_time": "2022-07-29T16:41:17.482Z"
   },
   {
    "duration": 25,
    "start_time": "2022-07-29T16:41:19.097Z"
   },
   {
    "duration": 274,
    "start_time": "2022-07-29T16:41:19.902Z"
   },
   {
    "duration": 11,
    "start_time": "2022-07-29T16:41:23.261Z"
   },
   {
    "duration": 504,
    "start_time": "2022-07-29T16:41:23.965Z"
   },
   {
    "duration": 3,
    "start_time": "2022-07-29T16:41:25.913Z"
   },
   {
    "duration": 14,
    "start_time": "2022-07-29T16:41:51.533Z"
   },
   {
    "duration": 33,
    "start_time": "2022-07-29T16:42:15.648Z"
   },
   {
    "duration": 19,
    "start_time": "2022-07-29T16:42:56.437Z"
   },
   {
    "duration": 3,
    "start_time": "2022-07-29T16:43:09.975Z"
   },
   {
    "duration": 9,
    "start_time": "2022-07-29T16:43:13.515Z"
   },
   {
    "duration": 1862,
    "start_time": "2022-07-29T16:43:54.029Z"
   },
   {
    "duration": 13,
    "start_time": "2022-07-29T16:44:03.014Z"
   },
   {
    "duration": 3,
    "start_time": "2022-07-29T16:44:19.599Z"
   },
   {
    "duration": 1632,
    "start_time": "2022-07-29T16:44:24.865Z"
   },
   {
    "duration": 10,
    "start_time": "2022-07-29T16:44:29.177Z"
   },
   {
    "duration": 4,
    "start_time": "2022-07-29T17:47:41.202Z"
   },
   {
    "duration": 817,
    "start_time": "2022-07-29T17:47:46.046Z"
   },
   {
    "duration": 27,
    "start_time": "2022-07-29T17:47:51.874Z"
   },
   {
    "duration": 236,
    "start_time": "2022-07-29T17:47:52.954Z"
   },
   {
    "duration": 464,
    "start_time": "2022-07-29T17:47:59.155Z"
   },
   {
    "duration": 3,
    "start_time": "2022-07-29T17:49:05.147Z"
   },
   {
    "duration": 4,
    "start_time": "2022-07-29T17:49:08.106Z"
   },
   {
    "duration": 9,
    "start_time": "2022-07-29T17:49:08.744Z"
   },
   {
    "duration": 1772,
    "start_time": "2022-07-29T17:49:18.969Z"
   },
   {
    "duration": 1428,
    "start_time": "2022-07-29T17:49:44.435Z"
   },
   {
    "duration": 3,
    "start_time": "2022-07-29T17:51:38.155Z"
   },
   {
    "duration": 1423,
    "start_time": "2022-07-29T17:51:39.675Z"
   },
   {
    "duration": 3,
    "start_time": "2022-07-29T17:52:20.056Z"
   },
   {
    "duration": 1502,
    "start_time": "2022-07-29T17:52:21.386Z"
   },
   {
    "duration": 1437,
    "start_time": "2022-07-29T17:52:33.139Z"
   },
   {
    "duration": 1523,
    "start_time": "2022-07-29T17:54:00.171Z"
   },
   {
    "duration": 4,
    "start_time": "2022-07-29T17:54:28.303Z"
   },
   {
    "duration": 1468,
    "start_time": "2022-07-29T17:54:29.235Z"
   },
   {
    "duration": 1450,
    "start_time": "2022-07-29T17:54:41.598Z"
   },
   {
    "duration": 16,
    "start_time": "2022-07-29T17:55:19.975Z"
   },
   {
    "duration": 17,
    "start_time": "2022-07-29T17:55:47.758Z"
   },
   {
    "duration": 16,
    "start_time": "2022-07-29T17:56:42.950Z"
   },
   {
    "duration": 4,
    "start_time": "2022-07-29T17:57:29.475Z"
   },
   {
    "duration": 795,
    "start_time": "2022-07-29T17:57:32.641Z"
   },
   {
    "duration": 33,
    "start_time": "2022-07-29T17:57:34.090Z"
   },
   {
    "duration": 231,
    "start_time": "2022-07-29T17:57:34.938Z"
   },
   {
    "duration": 429,
    "start_time": "2022-07-29T17:57:38.289Z"
   },
   {
    "duration": 4,
    "start_time": "2022-07-29T17:57:39.537Z"
   },
   {
    "duration": 6,
    "start_time": "2022-07-29T17:57:40.071Z"
   },
   {
    "duration": 9,
    "start_time": "2022-07-29T17:57:41.330Z"
   },
   {
    "duration": 16,
    "start_time": "2022-07-29T17:57:43.489Z"
   },
   {
    "duration": 1676,
    "start_time": "2022-07-29T17:58:40.359Z"
   },
   {
    "duration": 850,
    "start_time": "2022-07-29T17:58:47.051Z"
   },
   {
    "duration": 1418,
    "start_time": "2022-07-29T17:59:26.742Z"
   },
   {
    "duration": 178961,
    "start_time": "2022-07-29T17:59:44.466Z"
   },
   {
    "duration": 48,
    "start_time": "2022-07-29T18:03:44.540Z"
   },
   {
    "duration": 0,
    "start_time": "2022-07-29T18:09:52.615Z"
   },
   {
    "duration": 103361,
    "start_time": "2022-07-29T18:12:00.222Z"
   },
   {
    "duration": 2419370,
    "start_time": "2022-07-29T18:13:54.533Z"
   },
   {
    "duration": 8210,
    "start_time": "2022-07-29T18:58:26.375Z"
   },
   {
    "duration": 23,
    "start_time": "2022-07-29T19:02:07.465Z"
   },
   {
    "duration": 116,
    "start_time": "2022-07-29T19:09:12.078Z"
   },
   {
    "duration": 2815,
    "start_time": "2022-07-29T19:09:23.551Z"
   },
   {
    "duration": 14,
    "start_time": "2022-07-29T19:09:32.946Z"
   },
   {
    "duration": 58015,
    "start_time": "2022-07-30T11:13:21.644Z"
   },
   {
    "duration": 2469,
    "start_time": "2022-07-30T11:15:59.370Z"
   },
   {
    "duration": 33,
    "start_time": "2022-07-30T11:16:09.140Z"
   },
   {
    "duration": 209,
    "start_time": "2022-07-30T11:16:10.047Z"
   },
   {
    "duration": 618,
    "start_time": "2022-07-30T11:16:21.228Z"
   },
   {
    "duration": 3,
    "start_time": "2022-07-30T11:16:27.583Z"
   },
   {
    "duration": 2,
    "start_time": "2022-07-30T11:17:26.092Z"
   },
   {
    "duration": 2745,
    "start_time": "2022-07-30T11:17:33.550Z"
   },
   {
    "duration": 11,
    "start_time": "2022-07-30T11:17:38.622Z"
   },
   {
    "duration": 66,
    "start_time": "2022-07-30T11:19:26.460Z"
   },
   {
    "duration": 351,
    "start_time": "2022-07-30T11:20:14.897Z"
   },
   {
    "duration": 38,
    "start_time": "2022-07-30T11:20:27.842Z"
   },
   {
    "duration": 11,
    "start_time": "2022-07-30T11:21:14.806Z"
   },
   {
    "duration": 19,
    "start_time": "2022-07-30T11:21:28.369Z"
   },
   {
    "duration": 2622,
    "start_time": "2022-07-30T11:21:43.620Z"
   },
   {
    "duration": 32,
    "start_time": "2022-07-30T11:21:50.383Z"
   },
   {
    "duration": 59,
    "start_time": "2022-07-30T11:22:38.202Z"
   },
   {
    "duration": 2234,
    "start_time": "2022-07-30T11:23:03.381Z"
   },
   {
    "duration": 20,
    "start_time": "2022-07-30T11:23:10.426Z"
   },
   {
    "duration": 23,
    "start_time": "2022-07-30T11:23:18.511Z"
   },
   {
    "duration": 50,
    "start_time": "2022-07-30T11:23:23.994Z"
   },
   {
    "duration": 118,
    "start_time": "2022-07-30T11:23:41.206Z"
   },
   {
    "duration": 106,
    "start_time": "2022-07-30T11:24:40.062Z"
   },
   {
    "duration": 103,
    "start_time": "2022-07-30T11:24:55.376Z"
   },
   {
    "duration": 104,
    "start_time": "2022-07-30T11:25:10.984Z"
   },
   {
    "duration": 829,
    "start_time": "2022-07-30T11:26:44.114Z"
   },
   {
    "duration": 768,
    "start_time": "2022-07-30T11:26:52.211Z"
   },
   {
    "duration": 3,
    "start_time": "2022-07-30T11:27:12.024Z"
   },
   {
    "duration": 56,
    "start_time": "2022-07-30T11:27:19.655Z"
   },
   {
    "duration": 5,
    "start_time": "2022-07-30T12:04:57.741Z"
   },
   {
    "duration": 8,
    "start_time": "2022-07-30T13:27:26.243Z"
   },
   {
    "duration": 17,
    "start_time": "2022-07-30T13:29:28.881Z"
   },
   {
    "duration": 3,
    "start_time": "2022-07-30T13:30:42.319Z"
   },
   {
    "duration": 18,
    "start_time": "2022-07-30T13:30:53.577Z"
   },
   {
    "duration": 4,
    "start_time": "2022-07-30T13:31:27.797Z"
   },
   {
    "duration": 4,
    "start_time": "2022-07-30T13:32:20.747Z"
   },
   {
    "duration": 3,
    "start_time": "2022-07-30T13:32:27.894Z"
   },
   {
    "duration": 3,
    "start_time": "2022-07-30T13:32:53.496Z"
   },
   {
    "duration": 795,
    "start_time": "2022-07-30T13:32:56.871Z"
   },
   {
    "duration": 32,
    "start_time": "2022-07-30T13:33:00.280Z"
   },
   {
    "duration": 212,
    "start_time": "2022-07-30T13:33:01.466Z"
   },
   {
    "duration": 522,
    "start_time": "2022-07-30T13:33:05.909Z"
   },
   {
    "duration": 3,
    "start_time": "2022-07-30T13:33:07.509Z"
   },
   {
    "duration": 2642,
    "start_time": "2022-07-30T13:33:15.873Z"
   },
   {
    "duration": 25,
    "start_time": "2022-07-30T13:33:19.872Z"
   },
   {
    "duration": 50,
    "start_time": "2022-07-30T13:33:24.737Z"
   },
   {
    "duration": 129,
    "start_time": "2022-07-30T13:33:27.251Z"
   },
   {
    "duration": 3,
    "start_time": "2022-07-30T13:33:34.661Z"
   },
   {
    "duration": 61,
    "start_time": "2022-07-30T13:33:37.456Z"
   },
   {
    "duration": 20,
    "start_time": "2022-07-30T13:33:48.676Z"
   },
   {
    "duration": 341,
    "start_time": "2022-07-30T13:34:58.238Z"
   },
   {
    "duration": 299,
    "start_time": "2022-07-30T13:35:02.721Z"
   },
   {
    "duration": 4,
    "start_time": "2022-07-30T13:36:34.353Z"
   },
   {
    "duration": 19,
    "start_time": "2022-07-30T13:36:49.973Z"
   },
   {
    "duration": 4,
    "start_time": "2022-07-30T13:37:53.222Z"
   },
   {
    "duration": 6537,
    "start_time": "2022-07-30T13:37:59.086Z"
   },
   {
    "duration": 3,
    "start_time": "2022-07-30T13:38:08.831Z"
   },
   {
    "duration": 21,
    "start_time": "2022-07-30T13:55:20.178Z"
   },
   {
    "duration": 4,
    "start_time": "2022-07-30T13:56:36.861Z"
   },
   {
    "duration": 3,
    "start_time": "2022-07-30T13:57:29.544Z"
   },
   {
    "duration": 107,
    "start_time": "2022-07-30T13:58:24.641Z"
   },
   {
    "duration": 4,
    "start_time": "2022-07-30T13:58:54.820Z"
   },
   {
    "duration": 117,
    "start_time": "2022-07-30T13:58:55.671Z"
   },
   {
    "duration": 3,
    "start_time": "2022-07-30T13:59:19.021Z"
   },
   {
    "duration": 88,
    "start_time": "2022-07-30T13:59:24.124Z"
   },
   {
    "duration": 68,
    "start_time": "2022-07-30T14:00:11.391Z"
   },
   {
    "duration": 129,
    "start_time": "2022-07-30T14:00:20.389Z"
   },
   {
    "duration": 19,
    "start_time": "2022-07-30T14:00:47.574Z"
   },
   {
    "duration": 4,
    "start_time": "2022-07-30T14:01:42.378Z"
   },
   {
    "duration": 103,
    "start_time": "2022-07-30T14:01:43.420Z"
   },
   {
    "duration": 3,
    "start_time": "2022-07-30T14:03:14.420Z"
   },
   {
    "duration": 93,
    "start_time": "2022-07-30T14:03:15.516Z"
   },
   {
    "duration": 4,
    "start_time": "2022-07-30T14:03:30.692Z"
   },
   {
    "duration": 1949,
    "start_time": "2022-07-30T14:03:31.486Z"
   },
   {
    "duration": 4,
    "start_time": "2022-07-30T14:06:39.720Z"
   },
   {
    "duration": 462,
    "start_time": "2022-07-30T14:06:42.748Z"
   },
   {
    "duration": 54,
    "start_time": "2022-07-30T14:09:50.958Z"
   },
   {
    "duration": 4,
    "start_time": "2022-07-30T14:10:00.582Z"
   },
   {
    "duration": 1229,
    "start_time": "2022-07-30T14:10:03.224Z"
   },
   {
    "duration": 4,
    "start_time": "2022-07-30T14:12:40.983Z"
   },
   {
    "duration": 1149,
    "start_time": "2022-07-30T14:12:42.047Z"
   },
   {
    "duration": 5,
    "start_time": "2022-07-30T14:14:09.325Z"
   },
   {
    "duration": 1188,
    "start_time": "2022-07-30T14:17:30.016Z"
   },
   {
    "duration": 48,
    "start_time": "2022-07-30T14:18:12.883Z"
   },
   {
    "duration": 4,
    "start_time": "2022-07-30T14:18:19.952Z"
   },
   {
    "duration": 483,
    "start_time": "2022-07-30T14:18:22.060Z"
   },
   {
    "duration": 4,
    "start_time": "2022-07-30T14:18:31.031Z"
   },
   {
    "duration": 6,
    "start_time": "2022-07-30T14:21:18.933Z"
   },
   {
    "duration": 800,
    "start_time": "2022-07-30T14:21:21.760Z"
   },
   {
    "duration": 32,
    "start_time": "2022-07-30T14:21:23.279Z"
   },
   {
    "duration": 214,
    "start_time": "2022-07-30T14:21:24.088Z"
   },
   {
    "duration": 438,
    "start_time": "2022-07-30T14:21:27.842Z"
   },
   {
    "duration": 3,
    "start_time": "2022-07-30T14:21:29.218Z"
   },
   {
    "duration": 2821,
    "start_time": "2022-07-30T14:21:35.250Z"
   },
   {
    "duration": 27,
    "start_time": "2022-07-30T14:21:42.191Z"
   },
   {
    "duration": 55,
    "start_time": "2022-07-30T14:21:50.067Z"
   },
   {
    "duration": 114,
    "start_time": "2022-07-30T14:21:52.439Z"
   },
   {
    "duration": 3,
    "start_time": "2022-07-30T14:21:55.914Z"
   },
   {
    "duration": 71,
    "start_time": "2022-07-30T14:21:56.619Z"
   },
   {
    "duration": 19,
    "start_time": "2022-07-30T14:23:41.947Z"
   },
   {
    "duration": 4,
    "start_time": "2022-07-30T14:29:11.830Z"
   },
   {
    "duration": 568895,
    "start_time": "2022-07-30T14:29:15.426Z"
   },
   {
    "duration": 18,
    "start_time": "2022-07-30T15:01:14.826Z"
   },
   {
    "duration": 4,
    "start_time": "2022-07-30T15:02:01.755Z"
   },
   {
    "duration": 3,
    "start_time": "2022-07-30T15:02:48.620Z"
   },
   {
    "duration": 5,
    "start_time": "2022-07-30T15:02:54.781Z"
   },
   {
    "duration": 3,
    "start_time": "2022-07-30T15:04:35.124Z"
   },
   {
    "duration": 5,
    "start_time": "2022-07-30T15:09:56.870Z"
   },
   {
    "duration": 6,
    "start_time": "2022-07-30T15:10:08.104Z"
   },
   {
    "duration": 4,
    "start_time": "2022-07-30T15:14:48.727Z"
   },
   {
    "duration": 4,
    "start_time": "2022-07-30T15:14:55.446Z"
   },
   {
    "duration": 14,
    "start_time": "2022-07-30T15:23:32.887Z"
   },
   {
    "duration": 5,
    "start_time": "2022-07-30T15:23:55.333Z"
   },
   {
    "duration": 738,
    "start_time": "2022-07-30T15:23:58.283Z"
   },
   {
    "duration": 34,
    "start_time": "2022-07-30T15:24:00.132Z"
   },
   {
    "duration": 204,
    "start_time": "2022-07-30T15:24:00.984Z"
   },
   {
    "duration": 444,
    "start_time": "2022-07-30T15:24:05.234Z"
   },
   {
    "duration": 4,
    "start_time": "2022-07-30T15:24:06.341Z"
   },
   {
    "duration": 2738,
    "start_time": "2022-07-30T15:24:14.458Z"
   },
   {
    "duration": 26,
    "start_time": "2022-07-30T15:24:19.736Z"
   },
   {
    "duration": 53,
    "start_time": "2022-07-30T15:24:25.136Z"
   },
   {
    "duration": 110,
    "start_time": "2022-07-30T15:24:28.137Z"
   },
   {
    "duration": 3,
    "start_time": "2022-07-30T15:24:37.231Z"
   },
   {
    "duration": 10,
    "start_time": "2022-07-30T15:24:48.094Z"
   },
   {
    "duration": 68,
    "start_time": "2022-07-30T15:25:31.604Z"
   },
   {
    "duration": 10,
    "start_time": "2022-07-30T15:25:34.349Z"
   },
   {
    "duration": 5,
    "start_time": "2022-07-30T15:29:54.868Z"
   },
   {
    "duration": 6,
    "start_time": "2022-07-30T15:30:05.713Z"
   },
   {
    "duration": 2790,
    "start_time": "2022-07-30T15:30:10.993Z"
   },
   {
    "duration": 30,
    "start_time": "2022-07-30T15:30:13.786Z"
   },
   {
    "duration": 63,
    "start_time": "2022-07-30T15:30:17.572Z"
   },
   {
    "duration": 140,
    "start_time": "2022-07-30T15:30:18.431Z"
   },
   {
    "duration": 147,
    "start_time": "2022-07-30T15:30:32.407Z"
   },
   {
    "duration": 5,
    "start_time": "2022-07-30T15:30:35.946Z"
   },
   {
    "duration": 82,
    "start_time": "2022-07-30T15:30:36.713Z"
   },
   {
    "duration": 4,
    "start_time": "2022-07-30T15:30:40.947Z"
   },
   {
    "duration": 6,
    "start_time": "2022-07-30T15:31:38.064Z"
   },
   {
    "duration": 6,
    "start_time": "2022-07-30T15:31:48.621Z"
   },
   {
    "duration": 6,
    "start_time": "2022-07-30T15:32:06.733Z"
   },
   {
    "duration": 46,
    "start_time": "2022-07-30T15:32:12.360Z"
   },
   {
    "duration": 5,
    "start_time": "2022-07-30T15:32:31.269Z"
   },
   {
    "duration": 35,
    "start_time": "2022-07-30T15:32:38.718Z"
   },
   {
    "duration": 29,
    "start_time": "2022-07-30T15:33:00.073Z"
   },
   {
    "duration": 5,
    "start_time": "2022-07-30T15:33:06.067Z"
   },
   {
    "duration": 3,
    "start_time": "2022-07-30T15:35:17.376Z"
   },
   {
    "duration": 99215,
    "start_time": "2022-07-30T15:35:20.369Z"
   },
   {
    "duration": 5,
    "start_time": "2022-07-30T15:50:33.282Z"
   },
   {
    "duration": 6,
    "start_time": "2022-07-30T15:51:04.830Z"
   },
   {
    "duration": 3,
    "start_time": "2022-07-30T16:01:58.292Z"
   },
   {
    "duration": 65,
    "start_time": "2022-07-30T16:02:00.762Z"
   },
   {
    "duration": 4,
    "start_time": "2022-07-30T16:02:37.492Z"
   },
   {
    "duration": 122,
    "start_time": "2022-07-30T16:02:38.236Z"
   },
   {
    "duration": 4,
    "start_time": "2022-07-30T16:03:11.725Z"
   },
   {
    "duration": 123,
    "start_time": "2022-07-30T16:03:12.968Z"
   },
   {
    "duration": 4,
    "start_time": "2022-07-30T16:03:37.327Z"
   },
   {
    "duration": 138,
    "start_time": "2022-07-30T16:03:38.361Z"
   },
   {
    "duration": 4,
    "start_time": "2022-07-30T16:04:01.961Z"
   },
   {
    "duration": 34468,
    "start_time": "2022-07-30T16:04:04.838Z"
   },
   {
    "duration": 3,
    "start_time": "2022-07-30T16:05:33.282Z"
   },
   {
    "duration": 9502,
    "start_time": "2022-07-30T16:05:34.019Z"
   },
   {
    "duration": 4,
    "start_time": "2022-07-30T16:05:46.992Z"
   },
   {
    "duration": 36424,
    "start_time": "2022-07-30T16:05:48.004Z"
   },
   {
    "duration": 3,
    "start_time": "2022-07-30T16:08:45.711Z"
   },
   {
    "duration": 36412,
    "start_time": "2022-07-30T16:08:46.610Z"
   },
   {
    "duration": 3,
    "start_time": "2022-07-30T16:20:57.853Z"
   },
   {
    "duration": 1005,
    "start_time": "2022-07-30T16:21:01.733Z"
   },
   {
    "duration": 1018,
    "start_time": "2022-07-30T16:21:25.343Z"
   },
   {
    "duration": 17,
    "start_time": "2022-07-30T16:21:32.153Z"
   },
   {
    "duration": 4,
    "start_time": "2022-07-30T16:25:40.961Z"
   },
   {
    "duration": 33,
    "start_time": "2022-07-30T16:25:42.136Z"
   },
   {
    "duration": 4,
    "start_time": "2022-07-30T16:26:01.344Z"
   },
   {
    "duration": 37,
    "start_time": "2022-07-30T16:26:02.001Z"
   },
   {
    "duration": 4,
    "start_time": "2022-07-30T16:29:29.906Z"
   },
   {
    "duration": 33,
    "start_time": "2022-07-30T16:29:30.621Z"
   },
   {
    "duration": 4,
    "start_time": "2022-07-30T16:29:54.893Z"
   },
   {
    "duration": 51485,
    "start_time": "2022-07-30T16:29:55.791Z"
   },
   {
    "duration": 61431,
    "start_time": "2022-07-30T16:30:59.222Z"
   },
   {
    "duration": 58,
    "start_time": "2022-07-30T16:44:25.232Z"
   },
   {
    "duration": 6,
    "start_time": "2022-07-30T16:45:47.217Z"
   },
   {
    "duration": 15,
    "start_time": "2022-07-30T16:45:50.882Z"
   },
   {
    "duration": 7,
    "start_time": "2022-07-30T16:45:56.749Z"
   },
   {
    "duration": 11,
    "start_time": "2022-07-30T16:46:05.536Z"
   },
   {
    "duration": 8,
    "start_time": "2022-07-30T16:46:06.435Z"
   },
   {
    "duration": 10,
    "start_time": "2022-07-30T16:46:11.262Z"
   },
   {
    "duration": 6,
    "start_time": "2022-07-30T16:46:12.205Z"
   },
   {
    "duration": 2486,
    "start_time": "2022-07-30T16:49:30.679Z"
   },
   {
    "duration": 23,
    "start_time": "2022-07-30T16:49:34.307Z"
   },
   {
    "duration": 50,
    "start_time": "2022-07-30T16:49:38.473Z"
   },
   {
    "duration": 103,
    "start_time": "2022-07-30T16:49:39.681Z"
   },
   {
    "duration": 3,
    "start_time": "2022-07-30T16:49:44.029Z"
   },
   {
    "duration": 69,
    "start_time": "2022-07-30T16:49:45.061Z"
   },
   {
    "duration": 4,
    "start_time": "2022-07-30T16:49:49.311Z"
   },
   {
    "duration": 15,
    "start_time": "2022-07-30T16:49:57.258Z"
   },
   {
    "duration": 298,
    "start_time": "2022-07-30T16:50:24.435Z"
   },
   {
    "duration": 289,
    "start_time": "2022-07-30T16:52:47.933Z"
   },
   {
    "duration": 282,
    "start_time": "2022-07-30T16:53:37.105Z"
   },
   {
    "duration": 3,
    "start_time": "2022-07-30T16:57:24.719Z"
   },
   {
    "duration": 2,
    "start_time": "2022-07-30T17:04:07.214Z"
   },
   {
    "duration": 49080,
    "start_time": "2022-07-30T18:55:46.829Z"
   },
   {
    "duration": 2261,
    "start_time": "2022-07-30T18:56:41.663Z"
   },
   {
    "duration": 26,
    "start_time": "2022-07-30T18:56:43.926Z"
   },
   {
    "duration": 231,
    "start_time": "2022-07-30T18:56:47.719Z"
   },
   {
    "duration": 649,
    "start_time": "2022-07-30T18:56:50.947Z"
   },
   {
    "duration": 3,
    "start_time": "2022-07-30T18:56:51.923Z"
   },
   {
    "duration": 2718,
    "start_time": "2022-07-30T18:56:56.027Z"
   },
   {
    "duration": 20,
    "start_time": "2022-07-30T18:56:59.462Z"
   },
   {
    "duration": 37,
    "start_time": "2022-07-30T18:57:04.294Z"
   },
   {
    "duration": 121,
    "start_time": "2022-07-30T18:57:05.178Z"
   },
   {
    "duration": 3,
    "start_time": "2022-07-30T18:57:09.775Z"
   },
   {
    "duration": 54,
    "start_time": "2022-07-30T18:57:10.546Z"
   },
   {
    "duration": 3,
    "start_time": "2022-07-30T18:57:12.411Z"
   },
   {
    "duration": 5,
    "start_time": "2022-07-30T18:57:13.498Z"
   },
   {
    "duration": 27,
    "start_time": "2022-07-30T18:57:14.952Z"
   },
   {
    "duration": 5,
    "start_time": "2022-07-30T18:57:15.659Z"
   },
   {
    "duration": 3,
    "start_time": "2022-07-30T18:57:20.965Z"
   },
   {
    "duration": 96909,
    "start_time": "2022-07-30T18:57:38.741Z"
   },
   {
    "duration": 3,
    "start_time": "2022-07-30T18:59:28.251Z"
   },
   {
    "duration": 37215,
    "start_time": "2022-07-30T18:59:29.063Z"
   },
   {
    "duration": 5,
    "start_time": "2022-07-30T19:00:10.639Z"
   },
   {
    "duration": 60659,
    "start_time": "2022-07-30T19:00:12.381Z"
   },
   {
    "duration": 1804,
    "start_time": "2022-07-30T19:01:48.882Z"
   },
   {
    "duration": 54208,
    "start_time": "2022-08-01T11:48:07.254Z"
   },
   {
    "duration": 2332,
    "start_time": "2022-08-01T11:53:51.501Z"
   },
   {
    "duration": 28,
    "start_time": "2022-08-01T11:53:55.961Z"
   },
   {
    "duration": 249,
    "start_time": "2022-08-01T11:53:56.613Z"
   },
   {
    "duration": 670,
    "start_time": "2022-08-01T11:53:59.739Z"
   },
   {
    "duration": 3,
    "start_time": "2022-08-01T11:54:01.166Z"
   },
   {
    "duration": 2843,
    "start_time": "2022-08-01T11:54:05.748Z"
   },
   {
    "duration": 20,
    "start_time": "2022-08-01T11:54:15.365Z"
   },
   {
    "duration": 40,
    "start_time": "2022-08-01T11:54:21.279Z"
   },
   {
    "duration": 116,
    "start_time": "2022-08-01T11:54:22.967Z"
   },
   {
    "duration": 3,
    "start_time": "2022-08-01T11:54:25.868Z"
   },
   {
    "duration": 69,
    "start_time": "2022-08-01T11:54:26.891Z"
   },
   {
    "duration": 4,
    "start_time": "2022-08-01T11:54:29.889Z"
   },
   {
    "duration": 6,
    "start_time": "2022-08-01T11:54:39.827Z"
   },
   {
    "duration": 27,
    "start_time": "2022-08-01T11:54:41.108Z"
   },
   {
    "duration": 5,
    "start_time": "2022-08-01T11:54:42.720Z"
   },
   {
    "duration": 3,
    "start_time": "2022-08-01T11:55:02.159Z"
   },
   {
    "duration": 99618,
    "start_time": "2022-08-01T11:55:07.214Z"
   },
   {
    "duration": 58,
    "start_time": "2022-08-01T11:58:08.246Z"
   },
   {
    "duration": 4,
    "start_time": "2022-08-01T11:58:11.650Z"
   },
   {
    "duration": 5,
    "start_time": "2022-08-01T11:58:15.941Z"
   },
   {
    "duration": 28,
    "start_time": "2022-08-01T11:58:16.608Z"
   },
   {
    "duration": 5,
    "start_time": "2022-08-01T11:58:17.854Z"
   },
   {
    "duration": 4,
    "start_time": "2022-08-01T11:58:20.867Z"
   },
   {
    "duration": 100710,
    "start_time": "2022-08-01T11:58:22.952Z"
   },
   {
    "duration": 4,
    "start_time": "2022-08-01T12:07:41.402Z"
   },
   {
    "duration": 2,
    "start_time": "2022-08-01T12:09:35.308Z"
   },
   {
    "duration": 37737,
    "start_time": "2022-08-01T12:10:45.915Z"
   },
   {
    "duration": 4,
    "start_time": "2022-08-01T12:11:37.840Z"
   },
   {
    "duration": 61175,
    "start_time": "2022-08-01T12:11:43.157Z"
   },
   {
    "duration": 1853,
    "start_time": "2022-08-01T12:13:24.276Z"
   },
   {
    "duration": 3,
    "start_time": "2022-08-01T12:37:09.260Z"
   },
   {
    "duration": 3,
    "start_time": "2022-08-01T12:37:09.968Z"
   },
   {
    "duration": 38221,
    "start_time": "2022-08-01T12:37:10.639Z"
   },
   {
    "duration": 1819,
    "start_time": "2022-08-01T12:38:11.636Z"
   },
   {
    "duration": 4,
    "start_time": "2022-08-01T12:38:31.534Z"
   },
   {
    "duration": 39880,
    "start_time": "2022-08-01T12:38:34.186Z"
   },
   {
    "duration": 2041,
    "start_time": "2022-08-01T12:39:32.574Z"
   },
   {
    "duration": 373,
    "start_time": "2022-08-01T12:46:37.022Z"
   },
   {
    "duration": 22,
    "start_time": "2022-08-01T12:46:56.260Z"
   },
   {
    "duration": 30,
    "start_time": "2022-08-01T12:47:29.926Z"
   },
   {
    "duration": 2577,
    "start_time": "2022-08-01T12:52:50.752Z"
   },
   {
    "duration": 20,
    "start_time": "2022-08-01T12:52:53.942Z"
   },
   {
    "duration": 36,
    "start_time": "2022-08-01T12:52:56.748Z"
   },
   {
    "duration": 107,
    "start_time": "2022-08-01T12:52:57.106Z"
   },
   {
    "duration": 3,
    "start_time": "2022-08-01T12:52:58.770Z"
   },
   {
    "duration": 60,
    "start_time": "2022-08-01T12:52:59.306Z"
   },
   {
    "duration": 4,
    "start_time": "2022-08-01T12:53:00.743Z"
   },
   {
    "duration": 6,
    "start_time": "2022-08-01T12:53:01.637Z"
   },
   {
    "duration": 26,
    "start_time": "2022-08-01T12:53:02.328Z"
   },
   {
    "duration": 5,
    "start_time": "2022-08-01T12:53:03.096Z"
   },
   {
    "duration": 4,
    "start_time": "2022-08-01T12:53:07.330Z"
   },
   {
    "duration": 100182,
    "start_time": "2022-08-01T12:53:09.362Z"
   },
   {
    "duration": 4,
    "start_time": "2022-08-01T12:56:24.649Z"
   },
   {
    "duration": 37579,
    "start_time": "2022-08-01T12:56:25.986Z"
   },
   {
    "duration": 4,
    "start_time": "2022-08-01T12:57:07.830Z"
   },
   {
    "duration": 61159,
    "start_time": "2022-08-01T12:57:08.749Z"
   },
   {
    "duration": 25,
    "start_time": "2022-08-01T12:58:18.065Z"
   },
   {
    "duration": 3,
    "start_time": "2022-08-01T13:00:19.388Z"
   },
   {
    "duration": 60388,
    "start_time": "2022-08-01T13:00:20.262Z"
   },
   {
    "duration": 21,
    "start_time": "2022-08-01T13:01:57.640Z"
   },
   {
    "duration": 27,
    "start_time": "2022-08-01T13:02:08.758Z"
   },
   {
    "duration": 24,
    "start_time": "2022-08-01T13:02:58.199Z"
   },
   {
    "duration": 6,
    "start_time": "2022-08-01T13:04:23.149Z"
   },
   {
    "duration": 23,
    "start_time": "2022-08-01T13:07:17.362Z"
   },
   {
    "duration": 1818,
    "start_time": "2022-08-01T13:17:04.432Z"
   },
   {
    "duration": 3,
    "start_time": "2022-08-01T13:19:18.389Z"
   },
   {
    "duration": 25,
    "start_time": "2022-08-01T13:19:36.642Z"
   },
   {
    "duration": 3,
    "start_time": "2022-08-01T13:26:25.803Z"
   },
   {
    "duration": 20,
    "start_time": "2022-08-01T13:28:13.168Z"
   },
   {
    "duration": 23,
    "start_time": "2022-08-01T13:28:44.883Z"
   },
   {
    "duration": 29,
    "start_time": "2022-08-01T13:28:59.073Z"
   },
   {
    "duration": 1009,
    "start_time": "2022-08-01T13:31:16.767Z"
   },
   {
    "duration": 80,
    "start_time": "2022-08-01T13:31:27.856Z"
   },
   {
    "duration": 993,
    "start_time": "2022-08-01T13:31:54.295Z"
   },
   {
    "duration": 79,
    "start_time": "2022-08-01T13:32:01.818Z"
   },
   {
    "duration": 23,
    "start_time": "2022-08-01T13:32:59.887Z"
   },
   {
    "duration": 29512,
    "start_time": "2022-08-01T13:39:48.700Z"
   },
   {
    "duration": 22,
    "start_time": "2022-08-01T13:40:56.411Z"
   },
   {
    "duration": 3101,
    "start_time": "2022-08-01T13:44:23.005Z"
   },
   {
    "duration": 3074,
    "start_time": "2022-08-01T13:45:18.713Z"
   },
   {
    "duration": 3014,
    "start_time": "2022-08-01T13:45:36.441Z"
   },
   {
    "duration": 27,
    "start_time": "2022-08-01T13:45:50.659Z"
   },
   {
    "duration": 3163,
    "start_time": "2022-08-01T13:46:01.149Z"
   },
   {
    "duration": 2993,
    "start_time": "2022-08-01T13:46:14.542Z"
   },
   {
    "duration": 2974,
    "start_time": "2022-08-01T13:46:26.783Z"
   },
   {
    "duration": 2934,
    "start_time": "2022-08-01T13:47:03.559Z"
   },
   {
    "duration": 21,
    "start_time": "2022-08-01T13:47:07.538Z"
   },
   {
    "duration": 44,
    "start_time": "2022-08-01T13:47:11.344Z"
   },
   {
    "duration": 113,
    "start_time": "2022-08-01T13:47:12.043Z"
   },
   {
    "duration": 3,
    "start_time": "2022-08-01T13:47:14.664Z"
   },
   {
    "duration": 55,
    "start_time": "2022-08-01T13:47:19.099Z"
   },
   {
    "duration": 4,
    "start_time": "2022-08-01T13:47:20.693Z"
   },
   {
    "duration": 7,
    "start_time": "2022-08-01T13:47:22.333Z"
   },
   {
    "duration": 25,
    "start_time": "2022-08-01T13:47:23.001Z"
   },
   {
    "duration": 6,
    "start_time": "2022-08-01T13:47:23.780Z"
   },
   {
    "duration": 4,
    "start_time": "2022-08-01T13:47:27.686Z"
   },
   {
    "duration": 110015,
    "start_time": "2022-08-01T13:47:35.393Z"
   },
   {
    "duration": 4,
    "start_time": "2022-08-01T13:49:37.145Z"
   },
   {
    "duration": 40393,
    "start_time": "2022-08-01T13:49:38.066Z"
   },
   {
    "duration": 3,
    "start_time": "2022-08-01T13:50:29.656Z"
   },
   {
    "duration": 65623,
    "start_time": "2022-08-01T13:50:30.680Z"
   },
   {
    "duration": 2870,
    "start_time": "2022-08-01T13:52:03.076Z"
   },
   {
    "duration": 5,
    "start_time": "2022-08-01T13:53:07.489Z"
   },
   {
    "duration": 4,
    "start_time": "2022-08-01T13:53:21.618Z"
   },
   {
    "duration": 154311,
    "start_time": "2022-08-01T13:53:23.110Z"
   },
   {
    "duration": 4,
    "start_time": "2022-08-01T13:58:07.153Z"
   },
   {
    "duration": 57309,
    "start_time": "2022-08-01T13:58:09.155Z"
   },
   {
    "duration": 4,
    "start_time": "2022-08-01T14:00:27.504Z"
   },
   {
    "duration": 91999,
    "start_time": "2022-08-01T14:00:28.247Z"
   },
   {
    "duration": 2753,
    "start_time": "2022-08-01T14:02:30.441Z"
   },
   {
    "duration": 106,
    "start_time": "2022-08-01T14:07:09.227Z"
   },
   {
    "duration": 1109279,
    "start_time": "2022-08-01T14:07:39.033Z"
   },
   {
    "duration": 28783,
    "start_time": "2022-08-01T14:26:25.369Z"
   },
   {
    "duration": 9740,
    "start_time": "2022-08-01T14:27:40.292Z"
   },
   {
    "duration": 27,
    "start_time": "2022-08-01T14:28:26.446Z"
   },
   {
    "duration": 95954,
    "start_time": "2022-08-01T14:28:35.434Z"
   },
   {
    "duration": 2760,
    "start_time": "2022-08-01T14:31:13.059Z"
   },
   {
    "duration": 4,
    "start_time": "2022-08-01T14:31:39.594Z"
   },
   {
    "duration": 51354,
    "start_time": "2022-08-01T14:31:42.197Z"
   },
   {
    "duration": 5,
    "start_time": "2022-08-01T14:32:49.241Z"
   },
   {
    "duration": 200309,
    "start_time": "2022-08-01T14:32:51.718Z"
   },
   {
    "duration": 5,
    "start_time": "2022-08-01T14:38:56.755Z"
   },
   {
    "duration": 73728,
    "start_time": "2022-08-01T14:38:57.711Z"
   },
   {
    "duration": 73193,
    "start_time": "2022-08-01T14:40:59.551Z"
   },
   {
    "duration": 4,
    "start_time": "2022-08-01T14:42:12.745Z"
   },
   {
    "duration": 57166,
    "start_time": "2022-08-01T14:42:51.743Z"
   },
   {
    "duration": 4,
    "start_time": "2022-08-01T14:43:48.912Z"
   },
   {
    "duration": 3,
    "start_time": "2022-08-01T14:43:51.843Z"
   },
   {
    "duration": 116493,
    "start_time": "2022-08-01T14:43:52.989Z"
   },
   {
    "duration": 2412,
    "start_time": "2022-08-01T14:46:01.098Z"
   },
   {
    "duration": 4,
    "start_time": "2022-08-01T14:46:22.453Z"
   },
   {
    "duration": 3,
    "start_time": "2022-08-01T14:46:34.935Z"
   },
   {
    "duration": 36905,
    "start_time": "2022-08-01T14:46:35.835Z"
   },
   {
    "duration": 4,
    "start_time": "2022-08-01T14:47:38.403Z"
   },
   {
    "duration": 36695,
    "start_time": "2022-08-01T14:47:39.465Z"
   },
   {
    "duration": 3,
    "start_time": "2022-08-01T14:48:48.359Z"
   },
   {
    "duration": 36479,
    "start_time": "2022-08-01T14:48:49.965Z"
   },
   {
    "duration": 4,
    "start_time": "2022-08-01T14:49:40.331Z"
   },
   {
    "duration": 36335,
    "start_time": "2022-08-01T14:49:41.298Z"
   },
   {
    "duration": 2720,
    "start_time": "2022-08-01T14:50:44.566Z"
   },
   {
    "duration": 2746,
    "start_time": "2022-08-01T14:50:57.231Z"
   },
   {
    "duration": 2710,
    "start_time": "2022-08-01T14:51:29.635Z"
   },
   {
    "duration": 2397,
    "start_time": "2022-08-01T14:51:50.497Z"
   },
   {
    "duration": 3,
    "start_time": "2022-08-01T14:53:27.369Z"
   },
   {
    "duration": 2518,
    "start_time": "2022-08-01T14:53:38.009Z"
   },
   {
    "duration": 2440,
    "start_time": "2022-08-01T14:53:46.226Z"
   },
   {
    "duration": 2497,
    "start_time": "2022-08-01T14:53:53.698Z"
   },
   {
    "duration": 2455,
    "start_time": "2022-08-01T14:54:05.346Z"
   },
   {
    "duration": 2572,
    "start_time": "2022-08-01T14:54:12.422Z"
   },
   {
    "duration": 2427,
    "start_time": "2022-08-01T14:55:49.273Z"
   },
   {
    "duration": 2442,
    "start_time": "2022-08-01T14:56:07.761Z"
   },
   {
    "duration": 2452,
    "start_time": "2022-08-01T14:56:28.747Z"
   },
   {
    "duration": 2536,
    "start_time": "2022-08-01T14:56:36.117Z"
   },
   {
    "duration": 2009,
    "start_time": "2022-08-01T14:59:03.964Z"
   },
   {
    "duration": 415668,
    "start_time": "2022-08-01T15:00:27.341Z"
   },
   {
    "duration": 958,
    "start_time": "2022-08-01T15:07:26.460Z"
   },
   {
    "duration": 976,
    "start_time": "2022-08-01T15:07:57.700Z"
   },
   {
    "duration": 27,
    "start_time": "2022-08-01T15:09:42.159Z"
   },
   {
    "duration": 21,
    "start_time": "2022-08-01T15:10:28.015Z"
   },
   {
    "duration": 21,
    "start_time": "2022-08-01T15:10:39.531Z"
   },
   {
    "duration": 3,
    "start_time": "2022-08-01T15:17:13.100Z"
   },
   {
    "duration": 318,
    "start_time": "2022-08-01T15:21:08.499Z"
   },
   {
    "duration": 52158,
    "start_time": "2022-08-01T15:22:01.384Z"
   },
   {
    "duration": 834,
    "start_time": "2022-08-01T15:23:06.950Z"
   },
   {
    "duration": 31,
    "start_time": "2022-08-01T15:23:08.857Z"
   },
   {
    "duration": 239,
    "start_time": "2022-08-01T15:23:10.153Z"
   },
   {
    "duration": 602,
    "start_time": "2022-08-01T15:23:14.038Z"
   },
   {
    "duration": 3,
    "start_time": "2022-08-01T15:23:15.276Z"
   },
   {
    "duration": 2647,
    "start_time": "2022-08-01T15:23:19.441Z"
   },
   {
    "duration": 21,
    "start_time": "2022-08-01T15:23:22.948Z"
   },
   {
    "duration": 40,
    "start_time": "2022-08-01T15:23:26.962Z"
   },
   {
    "duration": 114,
    "start_time": "2022-08-01T15:23:27.765Z"
   },
   {
    "duration": 2,
    "start_time": "2022-08-01T15:23:29.590Z"
   },
   {
    "duration": 55,
    "start_time": "2022-08-01T15:23:30.333Z"
   },
   {
    "duration": 4,
    "start_time": "2022-08-01T15:23:32.041Z"
   },
   {
    "duration": 7,
    "start_time": "2022-08-01T15:23:32.684Z"
   },
   {
    "duration": 31,
    "start_time": "2022-08-01T15:23:33.356Z"
   },
   {
    "duration": 6,
    "start_time": "2022-08-01T15:23:34.611Z"
   },
   {
    "duration": 4,
    "start_time": "2022-08-01T15:23:43.316Z"
   },
   {
    "duration": 399612,
    "start_time": "2022-08-01T15:23:53.389Z"
   },
   {
    "duration": 432234,
    "start_time": "2022-08-01T15:31:51.467Z"
   },
   {
    "duration": 2554,
    "start_time": "2022-08-01T15:39:36.466Z"
   },
   {
    "duration": 20774,
    "start_time": "2022-08-01T15:41:10.711Z"
   },
   {
    "duration": 12014,
    "start_time": "2022-08-01T15:42:23.808Z"
   },
   {
    "duration": 4816,
    "start_time": "2022-08-01T15:42:47.589Z"
   },
   {
    "duration": 6429,
    "start_time": "2022-08-01T15:43:01.005Z"
   },
   {
    "duration": 101492,
    "start_time": "2022-08-01T15:46:02.909Z"
   },
   {
    "duration": 8200,
    "start_time": "2022-08-01T15:49:55.017Z"
   },
   {
    "duration": 2755,
    "start_time": "2022-08-01T15:50:46.112Z"
   },
   {
    "duration": 21,
    "start_time": "2022-08-01T15:50:49.550Z"
   },
   {
    "duration": 42,
    "start_time": "2022-08-01T15:50:52.946Z"
   },
   {
    "duration": 114,
    "start_time": "2022-08-01T15:50:53.538Z"
   },
   {
    "duration": 3,
    "start_time": "2022-08-01T15:50:55.263Z"
   },
   {
    "duration": 60,
    "start_time": "2022-08-01T15:50:55.981Z"
   },
   {
    "duration": 4,
    "start_time": "2022-08-01T15:50:57.714Z"
   },
   {
    "duration": 7,
    "start_time": "2022-08-01T15:50:58.854Z"
   },
   {
    "duration": 36,
    "start_time": "2022-08-01T15:51:01.969Z"
   },
   {
    "duration": 5,
    "start_time": "2022-08-01T15:51:02.654Z"
   },
   {
    "duration": 110723,
    "start_time": "2022-08-01T15:51:09.579Z"
   },
   {
    "duration": 5754,
    "start_time": "2022-08-01T15:53:23.115Z"
   },
   {
    "duration": 53149,
    "start_time": "2022-08-01T15:54:16.602Z"
   },
   {
    "duration": 910,
    "start_time": "2022-08-01T15:58:41.671Z"
   },
   {
    "duration": 30,
    "start_time": "2022-08-01T15:58:43.144Z"
   },
   {
    "duration": 266,
    "start_time": "2022-08-01T15:58:43.803Z"
   },
   {
    "duration": 512,
    "start_time": "2022-08-01T15:58:48.493Z"
   },
   {
    "duration": 3,
    "start_time": "2022-08-01T15:58:49.758Z"
   },
   {
    "duration": 2466,
    "start_time": "2022-08-01T15:58:53.191Z"
   },
   {
    "duration": 20,
    "start_time": "2022-08-01T15:58:56.263Z"
   },
   {
    "duration": 43,
    "start_time": "2022-08-01T15:59:00.250Z"
   },
   {
    "duration": 118,
    "start_time": "2022-08-01T15:59:01.037Z"
   },
   {
    "duration": 3,
    "start_time": "2022-08-01T15:59:03.155Z"
   },
   {
    "duration": 55,
    "start_time": "2022-08-01T15:59:04.270Z"
   },
   {
    "duration": 4,
    "start_time": "2022-08-01T15:59:16.592Z"
   },
   {
    "duration": 576640,
    "start_time": "2022-08-01T15:59:19.645Z"
   },
   {
    "duration": 4,
    "start_time": "2022-08-01T16:09:09.073Z"
   },
   {
    "duration": 196494,
    "start_time": "2022-08-01T16:09:13.702Z"
   },
   {
    "duration": 3,
    "start_time": "2022-08-01T16:12:38.085Z"
   },
   {
    "duration": 359994,
    "start_time": "2022-08-01T16:12:39.631Z"
   },
   {
    "duration": 938978,
    "start_time": "2022-08-01T16:18:49.640Z"
   },
   {
    "duration": 7612,
    "start_time": "2022-08-01T16:34:35.670Z"
   },
   {
    "duration": 7264,
    "start_time": "2022-08-01T16:35:40.725Z"
   },
   {
    "duration": 7512,
    "start_time": "2022-08-01T16:35:58.608Z"
   },
   {
    "duration": 7879,
    "start_time": "2022-08-01T16:36:11.663Z"
   },
   {
    "duration": 7472,
    "start_time": "2022-08-01T16:36:31.416Z"
   },
   {
    "duration": 4,
    "start_time": "2022-08-01T16:37:42.515Z"
   },
   {
    "duration": 4,
    "start_time": "2022-08-01T16:38:36.778Z"
   },
   {
    "duration": 205277,
    "start_time": "2022-08-01T16:38:37.667Z"
   },
   {
    "duration": 7168,
    "start_time": "2022-08-01T16:42:24.825Z"
   },
   {
    "duration": 36788,
    "start_time": "2022-08-01T16:42:39.059Z"
   },
   {
    "duration": 4,
    "start_time": "2022-08-01T16:43:49.531Z"
   },
   {
    "duration": 204221,
    "start_time": "2022-08-01T16:43:50.538Z"
   }
  ],
  "kernelspec": {
   "display_name": "Python 3 (ipykernel)",
   "language": "python",
   "name": "python3"
  },
  "language_info": {
   "codemirror_mode": {
    "name": "ipython",
    "version": 3
   },
   "file_extension": ".py",
   "mimetype": "text/x-python",
   "name": "python",
   "nbconvert_exporter": "python",
   "pygments_lexer": "ipython3",
   "version": "3.9.7"
  },
  "toc": {
   "base_numbering": 1,
   "nav_menu": {},
   "number_sections": true,
   "sideBar": true,
   "skip_h1_title": true,
   "title_cell": "Содержание",
   "title_sidebar": "Contents",
   "toc_cell": true,
   "toc_position": {
    "height": "calc(100% - 180px)",
    "left": "10px",
    "top": "150px",
    "width": "302.391px"
   },
   "toc_section_display": true,
   "toc_window_display": false
  }
 },
 "nbformat": 4,
 "nbformat_minor": 2
}
